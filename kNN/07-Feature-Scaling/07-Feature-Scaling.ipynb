{
 "cells": [
  {
   "cell_type": "markdown",
   "metadata": {},
   "source": [
    "### 数据归一化处理"
   ]
  },
  {
   "cell_type": "code",
   "execution_count": 1,
   "metadata": {},
   "outputs": [],
   "source": [
    "import numpy as np\n",
    "import matplotlib.pyplot as plt"
   ]
  },
  {
   "cell_type": "markdown",
   "metadata": {},
   "source": [
    "##### 最值归一化 Normalization\n",
    "适用于有明显边界的数据。"
   ]
  },
  {
   "cell_type": "code",
   "execution_count": 2,
   "metadata": {},
   "outputs": [],
   "source": [
    "x = np.random.randint(0, 100, size=100)"
   ]
  },
  {
   "cell_type": "code",
   "execution_count": 3,
   "metadata": {},
   "outputs": [
    {
     "data": {
      "text/plain": [
       "array([43, 42, 20, 38, 68, 46, 86, 95,  5, 80, 69, 59,  8, 82, 12, 77, 32,\n",
       "       85, 28, 61, 26, 20, 46, 44, 78, 87, 45, 94, 58, 91, 31, 42, 11, 94,\n",
       "       63, 17,  8, 24, 89, 16, 20,  3,  4,  9, 39, 87, 94, 51, 12, 32, 60,\n",
       "       20, 47, 44, 22, 61, 73, 59,  9, 31, 93,  2, 99, 91, 97, 25, 80, 26,\n",
       "       80, 20, 65, 54,  4,  3, 31, 78, 16, 39, 34, 81, 72, 99, 41, 99, 65,\n",
       "       22, 11, 89, 86, 74, 88, 67, 95, 31, 58, 49, 53, 38,  8, 54])"
      ]
     },
     "execution_count": 3,
     "metadata": {},
     "output_type": "execute_result"
    }
   ],
   "source": [
    "x"
   ]
  },
  {
   "cell_type": "code",
   "execution_count": 4,
   "metadata": {},
   "outputs": [
    {
     "data": {
      "text/plain": [
       "array([0.42268041, 0.41237113, 0.18556701, 0.37113402, 0.68041237,\n",
       "       0.45360825, 0.86597938, 0.95876289, 0.03092784, 0.80412371,\n",
       "       0.69072165, 0.58762887, 0.06185567, 0.82474227, 0.10309278,\n",
       "       0.77319588, 0.30927835, 0.8556701 , 0.26804124, 0.60824742,\n",
       "       0.24742268, 0.18556701, 0.45360825, 0.43298969, 0.78350515,\n",
       "       0.87628866, 0.44329897, 0.94845361, 0.57731959, 0.91752577,\n",
       "       0.29896907, 0.41237113, 0.09278351, 0.94845361, 0.62886598,\n",
       "       0.15463918, 0.06185567, 0.22680412, 0.89690722, 0.1443299 ,\n",
       "       0.18556701, 0.01030928, 0.02061856, 0.07216495, 0.3814433 ,\n",
       "       0.87628866, 0.94845361, 0.50515464, 0.10309278, 0.30927835,\n",
       "       0.59793814, 0.18556701, 0.46391753, 0.43298969, 0.20618557,\n",
       "       0.60824742, 0.73195876, 0.58762887, 0.07216495, 0.29896907,\n",
       "       0.93814433, 0.        , 1.        , 0.91752577, 0.97938144,\n",
       "       0.2371134 , 0.80412371, 0.24742268, 0.80412371, 0.18556701,\n",
       "       0.64948454, 0.53608247, 0.02061856, 0.01030928, 0.29896907,\n",
       "       0.78350515, 0.1443299 , 0.3814433 , 0.32989691, 0.81443299,\n",
       "       0.72164948, 1.        , 0.40206186, 1.        , 0.64948454,\n",
       "       0.20618557, 0.09278351, 0.89690722, 0.86597938, 0.74226804,\n",
       "       0.88659794, 0.67010309, 0.95876289, 0.29896907, 0.57731959,\n",
       "       0.48453608, 0.5257732 , 0.37113402, 0.06185567, 0.53608247])"
      ]
     },
     "execution_count": 4,
     "metadata": {},
     "output_type": "execute_result"
    }
   ],
   "source": [
    "(x - np.min(x)) / (np.max(x) - np.min(x))"
   ]
  },
  {
   "cell_type": "markdown",
   "metadata": {},
   "source": [
    "##### 作用于矩阵"
   ]
  },
  {
   "cell_type": "code",
   "execution_count": 6,
   "metadata": {},
   "outputs": [],
   "source": [
    "X2 = np.random.randint(0, 100, (50, 2))\n",
    "X2 = np.array(X2, dtype=float)"
   ]
  },
  {
   "cell_type": "code",
   "execution_count": 7,
   "metadata": {},
   "outputs": [
    {
     "data": {
      "text/plain": [
       "array([[21., 47.],\n",
       "       [17., 90.],\n",
       "       [41., 48.],\n",
       "       [18., 68.],\n",
       "       [12., 17.],\n",
       "       [63., 86.],\n",
       "       [82., 76.],\n",
       "       [38., 77.],\n",
       "       [87., 13.],\n",
       "       [82., 17.]])"
      ]
     },
     "execution_count": 7,
     "metadata": {},
     "output_type": "execute_result"
    }
   ],
   "source": [
    "X2[:10,:]"
   ]
  },
  {
   "cell_type": "code",
   "execution_count": 8,
   "metadata": {},
   "outputs": [],
   "source": [
    "X2[:,0] = (X2[:,0] - np.min(X2[:,0]))/(np.max(X2[:,0]) - np.min(X2[:,0]))\n",
    "X2[:,1] = (X2[:,1] - np.min(X2[:,1]))/(np.max(X2[:,1]) - np.min(X2[:,1]))"
   ]
  },
  {
   "cell_type": "code",
   "execution_count": 9,
   "metadata": {},
   "outputs": [
    {
     "data": {
      "text/plain": [
       "array([[0.21428571, 0.46938776],\n",
       "       [0.17346939, 0.90816327],\n",
       "       [0.41836735, 0.47959184],\n",
       "       [0.18367347, 0.68367347],\n",
       "       [0.12244898, 0.16326531],\n",
       "       [0.64285714, 0.86734694],\n",
       "       [0.83673469, 0.76530612],\n",
       "       [0.3877551 , 0.7755102 ],\n",
       "       [0.8877551 , 0.12244898],\n",
       "       [0.83673469, 0.16326531]])"
      ]
     },
     "execution_count": 9,
     "metadata": {},
     "output_type": "execute_result"
    }
   ],
   "source": [
    "X2[:10,:]"
   ]
  },
  {
   "cell_type": "code",
   "execution_count": 10,
   "metadata": {},
   "outputs": [
    {
     "data": {
      "image/png": "[encoded data removed]",
      "text/plain": [
       "<Figure size 432x288 with 1 Axes>"
      ]
     },
     "metadata": {
      "needs_background": "light"
     },
     "output_type": "display_data"
    }
   ],
   "source": [
    "plt.scatter(X2[:,0], X2[:,1])\n",
    "plt.show()"
   ]
  },
  {
   "cell_type": "code",
   "execution_count": 13,
   "metadata": {},
   "outputs": [
    {
     "data": {
      "text/plain": [
       "0.43081632653061225"
      ]
     },
     "execution_count": 13,
     "metadata": {},
     "output_type": "execute_result"
    }
   ],
   "source": [
    "np.mean(X2[:,0])"
   ]
  },
  {
   "cell_type": "code",
   "execution_count": 14,
   "metadata": {},
   "outputs": [
    {
     "data": {
      "text/plain": [
       "0.305395667867964"
      ]
     },
     "execution_count": 14,
     "metadata": {},
     "output_type": "execute_result"
    }
   ],
   "source": [
    "np.std(X2[:,0])"
   ]
  },
  {
   "cell_type": "code",
   "execution_count": 15,
   "metadata": {},
   "outputs": [
    {
     "data": {
      "text/plain": [
       "0.48857142857142855"
      ]
     },
     "execution_count": 15,
     "metadata": {},
     "output_type": "execute_result"
    }
   ],
   "source": [
    "np.mean(X2[:,1])"
   ]
  },
  {
   "cell_type": "code",
   "execution_count": 16,
   "metadata": {},
   "outputs": [
    {
     "data": {
      "text/plain": [
       "0.3014448063277491"
      ]
     },
     "execution_count": 16,
     "metadata": {},
     "output_type": "execute_result"
    }
   ],
   "source": [
    "np.std(X2[:,1])"
   ]
  },
  {
   "cell_type": "markdown",
   "metadata": {},
   "source": [
    "#### 均值方差归一化"
   ]
  },
  {
   "cell_type": "code",
   "execution_count": 19,
   "metadata": {},
   "outputs": [],
   "source": [
    "X2[:,0] = (X2[:,0] - np.mean(X2[:,0])) / np.std(X2[:,0])\n",
    "X2[:,1] = (X2[:,1] - np.mean(X2[:,1])) / np.std(X2[:,1])"
   ]
  },
  {
   "cell_type": "code",
   "execution_count": 20,
   "metadata": {},
   "outputs": [
    {
     "data": {
      "image/png": "[encoded data removed]",
      "text/plain": [
       "<Figure size 432x288 with 1 Axes>"
      ]
     },
     "metadata": {
      "needs_background": "light"
     },
     "output_type": "display_data"
    }
   ],
   "source": [
    "plt.scatter(X2[:,0], X2[:,1])\n",
    "plt.show()"
   ]
  },
  {
   "cell_type": "code",
   "execution_count": 21,
   "metadata": {},
   "outputs": [
    {
     "data": {
      "text/plain": [
       "-3.2751579226442116e-17"
      ]
     },
     "execution_count": 21,
     "metadata": {},
     "output_type": "execute_result"
    }
   ],
   "source": [
    "np.mean(X2[:,0])"
   ]
  },
  {
   "cell_type": "code",
   "execution_count": 22,
   "metadata": {},
   "outputs": [
    {
     "data": {
      "text/plain": [
       "0.9999999999999999"
      ]
     },
     "execution_count": 22,
     "metadata": {},
     "output_type": "execute_result"
    }
   ],
   "source": [
    "np.std(X2[:,0])"
   ]
  },
  {
   "cell_type": "code",
   "execution_count": 23,
   "metadata": {},
   "outputs": [
    {
     "data": {
      "text/plain": [
       "4.884981308350689e-17"
      ]
     },
     "execution_count": 23,
     "metadata": {},
     "output_type": "execute_result"
    }
   ],
   "source": [
    "np.mean(X2[:,1])"
   ]
  },
  {
   "cell_type": "code",
   "execution_count": 24,
   "metadata": {},
   "outputs": [
    {
     "data": {
      "text/plain": [
       "1.0"
      ]
     },
     "execution_count": 24,
     "metadata": {},
     "output_type": "execute_result"
    }
   ],
   "source": [
    "np.std(X2[:,1])"
   ]
  },
  {
   "cell_type": "code",
   "execution_count": null,
   "metadata": {},
   "outputs": [],
   "source": []
  }
 ],
 "metadata": {
  "kernelspec": {
   "display_name": "Python 3",
   "language": "python",
   "name": "python3"
  },
  "language_info": {
   "codemirror_mode": {
    "name": "ipython",
    "version": 3
   },
   "file_extension": ".py",
   "mimetype": "text/x-python",
   "name": "python",
   "nbconvert_exporter": "python",
   "pygments_lexer": "ipython3",
   "version": "3.7.1"
  }
 },
 "nbformat": 4,
 "nbformat_minor": 2
}
