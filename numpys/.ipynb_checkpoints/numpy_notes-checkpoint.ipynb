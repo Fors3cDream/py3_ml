{
 "cells": [
  {
   "cell_type": "markdown",
   "metadata": {},
   "source": [
    "#### 数组对象\n",
    "\n",
    "Numpy中的ndarray是一个多维数组对象，该对象由两部分组成：\n",
    "\n",
    "- 实际的数据。\n",
    "- 描述这些数据的元数据。\n",
    "\n",
    "大部分的数组操作仅仅修改元数据部分，而不改变底层的实际数据。\n",
    "\n",
    "数组的shape属性返回一个元组(tuple)，元组中的元素即为Numpy数组每一个维度上的大小。"
   ]
  },
  {
   "cell_type": "code",
   "execution_count": 4,
   "metadata": {},
   "outputs": [
    {
     "data": {
      "text/plain": [
       "array([[0, 1],\n",
       "       [0, 1]])"
      ]
     },
     "execution_count": 4,
     "metadata": {},
     "output_type": "execute_result"
    }
   ],
   "source": [
    "# 创建多维数组\n",
    "\n",
    "import numpy as np\n",
    "\n",
    "m = np.array([np.arange(2), np.arange(2)])\n",
    "m"
   ]
  },
  {
   "cell_type": "markdown",
   "metadata": {},
   "source": [
    "#### 数据类型对象\n",
    "数据类型对象是`numpy.dtype`类的实例。\n",
    "\n",
    "numpy数组是有数据类型的，numpy数组中的每一个元素均为相同的数据类型。\n",
    "\n",
    "数据类型对象可以给出单个数组元素在内存中占用的字节数，即dtype类的itemsize属性："
   ]
  },
  {
   "cell_type": "code",
   "execution_count": 5,
   "metadata": {},
   "outputs": [
    {
     "data": {
      "text/plain": [
       "4"
      ]
     },
     "execution_count": 5,
     "metadata": {},
     "output_type": "execute_result"
    }
   ],
   "source": [
    "m.dtype.itemsize"
   ]
  },
  {
   "cell_type": "markdown",
   "metadata": {},
   "source": [
    "#### 字符编码\n",
    "\n",
    "\n",
    "|数据类型|字符编码|\n",
    "|----|---|\n",
    "| 整数 | i |\n",
    "| 无符号整数 | u |\n",
    "| 单精度浮点数 | f |\n",
    "| 双精度浮点数 | d |\n",
    "| 布尔值 | b |\n",
    "| 复数 | D |\n",
    "| 字符串 | S |\n",
    "| unicode | U |\n",
    "| void(空) | V |\n"
   ]
  },
  {
   "cell_type": "code",
   "execution_count": 6,
   "metadata": {},
   "outputs": [
    {
     "data": {
      "text/plain": [
       "array([ 0.,  1.,  2.,  3.,  4.,  5.,  6.], dtype=float32)"
      ]
     },
     "execution_count": 6,
     "metadata": {},
     "output_type": "execute_result"
    }
   ],
   "source": [
    "np.arange(7, dtype='f')"
   ]
  },
  {
   "cell_type": "code",
   "execution_count": 8,
   "metadata": {},
   "outputs": [
    {
     "data": {
      "text/plain": [
       "array([ 0.+0.j,  1.+0.j,  2.+0.j,  3.+0.j,  4.+0.j,  5.+0.j,  6.+0.j])"
      ]
     },
     "execution_count": 8,
     "metadata": {},
     "output_type": "execute_result"
    }
   ],
   "source": [
    "np.arange(7, dtype='D')"
   ]
  },
  {
   "cell_type": "markdown",
   "metadata": {},
   "source": [
    "#### 自定义数据类型"
   ]
  },
  {
   "cell_type": "code",
   "execution_count": 10,
   "metadata": {},
   "outputs": [
    {
     "data": {
      "text/plain": [
       "dtype('float64')"
      ]
     },
     "execution_count": 10,
     "metadata": {},
     "output_type": "execute_result"
    }
   ],
   "source": [
    "# 使用Python中的浮点数类型\n",
    "np.dtype(float)"
   ]
  },
  {
   "cell_type": "code",
   "execution_count": 15,
   "metadata": {},
   "outputs": [
    {
     "name": "stdout",
     "output_type": "stream",
     "text": [
      "float32\n",
      "float64\n"
     ]
    }
   ],
   "source": [
    "# 使用字符编码来指定浮点数类型 \n",
    "n = np.dtype('f')\n",
    "print(n)\n",
    "m = np.dtype('d')\n",
    "print(m)"
   ]
  },
  {
   "cell_type": "code",
   "execution_count": 16,
   "metadata": {},
   "outputs": [
    {
     "data": {
      "text/plain": [
       "dtype('float64')"
      ]
     },
     "execution_count": 16,
     "metadata": {},
     "output_type": "execute_result"
    }
   ],
   "source": [
    "# 将两个字符作为参数传给数据类型的构造函数。第一个字符表示数据类型，\n",
    "# 第二个字符表示该类型在内存中占用的字节数(2、4、8分别代表精度为16、32、64位的浮点数)\n",
    "np.dtype('f8')"
   ]
  },
  {
   "cell_type": "code",
   "execution_count": 20,
   "metadata": {},
   "outputs": [
    {
     "data": {
      "text/plain": [
       "dtype([('name', '<U40'), ('numtimes', '<i4'), ('price', '<f8')])"
      ]
     },
     "execution_count": 20,
     "metadata": {},
     "output_type": "execute_result"
    }
   ],
   "source": [
    "# 创建自定义数据类型\n",
    "# 创建数据类型 - 存储商店库存， 商品名称 库存数量 价格\n",
    "t = np.dtype([('name', str, 40), ('numtimes', np.int32), ('price', float)])\n",
    "t"
   ]
  },
  {
   "cell_type": "code",
   "execution_count": 21,
   "metadata": {},
   "outputs": [
    {
     "data": {
      "text/plain": [
       "dtype('<U40')"
      ]
     },
     "execution_count": 21,
     "metadata": {},
     "output_type": "execute_result"
    }
   ],
   "source": [
    "t['name']"
   ]
  },
  {
   "cell_type": "markdown",
   "metadata": {},
   "source": [
    "#### 一维数组的索引和切片"
   ]
  },
  {
   "cell_type": "code",
   "execution_count": 22,
   "metadata": {},
   "outputs": [
    {
     "data": {
      "text/plain": [
       "array([3, 4, 5, 6])"
      ]
     },
     "execution_count": 22,
     "metadata": {},
     "output_type": "execute_result"
    }
   ],
   "source": [
    "a = np.arange(9)\n",
    "a[3:7]"
   ]
  },
  {
   "cell_type": "code",
   "execution_count": 23,
   "metadata": {},
   "outputs": [
    {
     "data": {
      "text/plain": [
       "(2, 3, 4)"
      ]
     },
     "execution_count": 23,
     "metadata": {},
     "output_type": "execute_result"
    }
   ],
   "source": [
    "# 多维数据的切片和索引\n",
    "b = np.arange(24).reshape(2,3,4)\n",
    "b.shape"
   ]
  },
  {
   "cell_type": "code",
   "execution_count": 24,
   "metadata": {},
   "outputs": [
    {
     "data": {
      "text/plain": [
       "array([[[ 0,  1,  2,  3],\n",
       "        [ 4,  5,  6,  7],\n",
       "        [ 8,  9, 10, 11]],\n",
       "\n",
       "       [[12, 13, 14, 15],\n",
       "        [16, 17, 18, 19],\n",
       "        [20, 21, 22, 23]]])"
      ]
     },
     "execution_count": 24,
     "metadata": {},
     "output_type": "execute_result"
    }
   ],
   "source": [
    "b"
   ]
  },
  {
   "cell_type": "code",
   "execution_count": 25,
   "metadata": {},
   "outputs": [
    {
     "data": {
      "text/plain": [
       "0"
      ]
     },
     "execution_count": 25,
     "metadata": {},
     "output_type": "execute_result"
    }
   ],
   "source": [
    "# 可以用三维坐标来选定任意一个位置的元素\n",
    "b[0, 0, 0]"
   ]
  },
  {
   "cell_type": "code",
   "execution_count": 26,
   "metadata": {},
   "outputs": [
    {
     "data": {
      "text/plain": [
       "array([[ 0,  1,  2,  3],\n",
       "       [ 4,  5,  6,  7],\n",
       "       [ 8,  9, 10, 11]])"
      ]
     },
     "execution_count": 26,
     "metadata": {},
     "output_type": "execute_result"
    }
   ],
   "source": [
    "b[0, :, :]"
   ]
  },
  {
   "cell_type": "code",
   "execution_count": 27,
   "metadata": {},
   "outputs": [
    {
     "data": {
      "text/plain": [
       "array([[ 0,  1,  2,  3],\n",
       "       [ 4,  5,  6,  7],\n",
       "       [ 8,  9, 10, 11]])"
      ]
     },
     "execution_count": 27,
     "metadata": {},
     "output_type": "execute_result"
    }
   ],
   "source": [
    "# 多个冒号可以用一个省略号(...)来代替\n",
    "b[0,...]"
   ]
  },
  {
   "cell_type": "code",
   "execution_count": 28,
   "metadata": {},
   "outputs": [
    {
     "data": {
      "text/plain": [
       "array([4, 5, 6, 7])"
      ]
     },
     "execution_count": 28,
     "metadata": {},
     "output_type": "execute_result"
    }
   ],
   "source": [
    "b[0,1]"
   ]
  },
  {
   "cell_type": "code",
   "execution_count": 29,
   "metadata": {},
   "outputs": [
    {
     "data": {
      "text/plain": [
       "array([4, 6])"
      ]
     },
     "execution_count": 29,
     "metadata": {},
     "output_type": "execute_result"
    }
   ],
   "source": [
    "# 数组切片中间隔地选定元素\n",
    "b[0, 1, ::2]"
   ]
  },
  {
   "cell_type": "code",
   "execution_count": 30,
   "metadata": {},
   "outputs": [
    {
     "data": {
      "text/plain": [
       "array([[ 1,  5,  9],\n",
       "       [13, 17, 21]])"
      ]
     },
     "execution_count": 30,
     "metadata": {},
     "output_type": "execute_result"
    }
   ],
   "source": [
    "# 选取所有楼层的第2列的元素，既不指定楼层和行号\n",
    "b[...,1]"
   ]
  },
  {
   "cell_type": "code",
   "execution_count": 32,
   "metadata": {},
   "outputs": [
    {
     "data": {
      "text/plain": [
       "array([ 3,  7, 11])"
      ]
     },
     "execution_count": 32,
     "metadata": {},
     "output_type": "execute_result"
    }
   ],
   "source": [
    "# 选取第一层最后一列\n",
    "b[0,:,-1]"
   ]
  },
  {
   "cell_type": "code",
   "execution_count": 34,
   "metadata": {},
   "outputs": [
    {
     "data": {
      "text/plain": [
       "array([11,  7,  3])"
      ]
     },
     "execution_count": 34,
     "metadata": {},
     "output_type": "execute_result"
    }
   ],
   "source": [
    "# 反选第一层最后一列\n",
    "b[0,::-1,-1]"
   ]
  },
  {
   "cell_type": "code",
   "execution_count": 35,
   "metadata": {},
   "outputs": [
    {
     "data": {
      "text/plain": [
       "array([[[12, 13, 14, 15],\n",
       "        [16, 17, 18, 19],\n",
       "        [20, 21, 22, 23]],\n",
       "\n",
       "       [[ 0,  1,  2,  3],\n",
       "        [ 4,  5,  6,  7],\n",
       "        [ 8,  9, 10, 11]]])"
      ]
     },
     "execution_count": 35,
     "metadata": {},
     "output_type": "execute_result"
    }
   ],
   "source": [
    "# 反转第一层第二层\n",
    "b[::-1]"
   ]
  },
  {
   "cell_type": "markdown",
   "metadata": {},
   "source": [
    "#### 改变数组维度"
   ]
  },
  {
   "cell_type": "code",
   "execution_count": 36,
   "metadata": {},
   "outputs": [
    {
     "data": {
      "text/plain": [
       "array([ 0,  1,  2,  3,  4,  5,  6,  7,  8,  9, 10, 11, 12, 13, 14, 15, 16,\n",
       "       17, 18, 19, 20, 21, 22, 23])"
      ]
     },
     "execution_count": 36,
     "metadata": {},
     "output_type": "execute_result"
    }
   ],
   "source": [
    "# （1） ravel - 完成展平数组\n",
    "b.ravel()"
   ]
  },
  {
   "cell_type": "code",
   "execution_count": 38,
   "metadata": {},
   "outputs": [
    {
     "data": {
      "text/plain": [
       "array([ 0,  1,  2,  3,  4,  5,  6,  7,  8,  9, 10, 11, 12, 13, 14, 15, 16,\n",
       "       17, 18, 19, 20, 21, 22, 23])"
      ]
     },
     "execution_count": 38,
     "metadata": {},
     "output_type": "execute_result"
    }
   ],
   "source": [
    "# (2) flatten - 也是展平的功能。 flatten会请求内存来存储结果， ravel - 只是返回数组的一个视图\n",
    "b.flatten()"
   ]
  },
  {
   "cell_type": "code",
   "execution_count": 40,
   "metadata": {},
   "outputs": [
    {
     "data": {
      "text/plain": [
       "array([[ 0,  1,  2,  3],\n",
       "       [ 4,  5,  6,  7],\n",
       "       [ 8,  9, 10, 11],\n",
       "       [12, 13, 14, 15],\n",
       "       [16, 17, 18, 19],\n",
       "       [20, 21, 22, 23]])"
      ]
     },
     "execution_count": 40,
     "metadata": {},
     "output_type": "execute_result"
    }
   ],
   "source": [
    "# (3) 用元组设置维度 \n",
    "b.shape = (6, 4)\n",
    "b"
   ]
  },
  {
   "cell_type": "code",
   "execution_count": 41,
   "metadata": {},
   "outputs": [
    {
     "data": {
      "text/plain": [
       "array([[ 0,  4,  8, 12, 16, 20],\n",
       "       [ 1,  5,  9, 13, 17, 21],\n",
       "       [ 2,  6, 10, 14, 18, 22],\n",
       "       [ 3,  7, 11, 15, 19, 23]])"
      ]
     },
     "execution_count": 41,
     "metadata": {},
     "output_type": "execute_result"
    }
   ],
   "source": [
    "# (4) transpose -- 转置矩阵\n",
    "b.transpose()"
   ]
  },
  {
   "cell_type": "markdown",
   "metadata": {},
   "source": [
    "#### 数组的组合\n",
    "Numpy数组有水平组合、垂直组合和深度组合等多种组合方式。可使用vstack、dstack、hstack、column_stack、row_stack以及concatenate来完成组合。"
   ]
  },
  {
   "cell_type": "code",
   "execution_count": 42,
   "metadata": {},
   "outputs": [
    {
     "data": {
      "text/plain": [
       "array([[0, 1, 2],\n",
       "       [3, 4, 5],\n",
       "       [6, 7, 8]])"
      ]
     },
     "execution_count": 42,
     "metadata": {},
     "output_type": "execute_result"
    }
   ],
   "source": [
    "# （1） 创建数组\n",
    "a = np.arange(9).reshape(3,3)\n",
    "a"
   ]
  },
  {
   "cell_type": "code",
   "execution_count": 43,
   "metadata": {},
   "outputs": [
    {
     "data": {
      "text/plain": [
       "array([[ 0,  2,  4],\n",
       "       [ 6,  8, 10],\n",
       "       [12, 14, 16]])"
      ]
     },
     "execution_count": 43,
     "metadata": {},
     "output_type": "execute_result"
    }
   ],
   "source": [
    "b = 2*a\n",
    "b"
   ]
  },
  {
   "cell_type": "code",
   "execution_count": 47,
   "metadata": {},
   "outputs": [
    {
     "data": {
      "text/plain": [
       "array([[ 0,  1,  2,  0,  2,  4],\n",
       "       [ 3,  4,  5,  6,  8, 10],\n",
       "       [ 6,  7,  8, 12, 14, 16]])"
      ]
     },
     "execution_count": 47,
     "metadata": {},
     "output_type": "execute_result"
    }
   ],
   "source": [
    "# 水平组合，将ndarray对象构成的元组作为参数，传给hstack函数。\n",
    "np.hstack((a,b))"
   ]
  },
  {
   "cell_type": "code",
   "execution_count": 49,
   "metadata": {},
   "outputs": [
    {
     "data": {
      "text/plain": [
       "array([[ 0,  1,  2,  0,  2,  4],\n",
       "       [ 3,  4,  5,  6,  8, 10],\n",
       "       [ 6,  7,  8, 12, 14, 16]])"
      ]
     },
     "execution_count": 49,
     "metadata": {},
     "output_type": "execute_result"
    }
   ],
   "source": [
    "# 也可以用concatenate函数来实现相同的效果\n",
    "np.concatenate((a,b), axis=1)"
   ]
  },
  {
   "cell_type": "code",
   "execution_count": 50,
   "metadata": {},
   "outputs": [
    {
     "data": {
      "text/plain": [
       "array([[ 0,  1,  2],\n",
       "       [ 3,  4,  5],\n",
       "       [ 6,  7,  8],\n",
       "       [ 0,  2,  4],\n",
       "       [ 6,  8, 10],\n",
       "       [12, 14, 16]])"
      ]
     },
     "execution_count": 50,
     "metadata": {},
     "output_type": "execute_result"
    }
   ],
   "source": [
    "# 垂直组合\n",
    "np.vstack((a,b))"
   ]
  },
  {
   "cell_type": "code",
   "execution_count": 51,
   "metadata": {},
   "outputs": [
    {
     "data": {
      "text/plain": [
       "array([[ 0,  1,  2],\n",
       "       [ 3,  4,  5],\n",
       "       [ 6,  7,  8],\n",
       "       [ 0,  2,  4],\n",
       "       [ 6,  8, 10],\n",
       "       [12, 14, 16]])"
      ]
     },
     "execution_count": 51,
     "metadata": {},
     "output_type": "execute_result"
    }
   ],
   "source": [
    "# concatenate中 axis = 0 以列来组合\n",
    "np.concatenate((a,b), axis=0)"
   ]
  },
  {
   "cell_type": "code",
   "execution_count": 52,
   "metadata": {},
   "outputs": [
    {
     "data": {
      "text/plain": [
       "array([[[ 0,  0],\n",
       "        [ 1,  2],\n",
       "        [ 2,  4]],\n",
       "\n",
       "       [[ 3,  6],\n",
       "        [ 4,  8],\n",
       "        [ 5, 10]],\n",
       "\n",
       "       [[ 6, 12],\n",
       "        [ 7, 14],\n",
       "        [ 8, 16]]])"
      ]
     },
     "execution_count": 52,
     "metadata": {},
     "output_type": "execute_result"
    }
   ],
   "source": [
    "# 深度组合 将相同的元组作为参数传给dstack。\n",
    "# 深度组合就是将一系列数组沿着纵轴（深度方向）方向进行层叠组合\n",
    "np.dstack((a,b))"
   ]
  },
  {
   "cell_type": "code",
   "execution_count": 54,
   "metadata": {},
   "outputs": [
    {
     "data": {
      "text/plain": [
       "array([[0, 0],\n",
       "       [1, 2]])"
      ]
     },
     "execution_count": 54,
     "metadata": {},
     "output_type": "execute_result"
    }
   ],
   "source": [
    "# 列组合 - column_stack 对于一维数组将按列方向进行组合 第一个数组元素为行首元素\n",
    "one = np.arange(2)\n",
    "twice_oned = 2 * one\n",
    "np.column_stack((one, twice_oned))"
   ]
  },
  {
   "cell_type": "code",
   "execution_count": 58,
   "metadata": {},
   "outputs": [
    {
     "data": {
      "text/plain": [
       "array([[ 0,  1,  2,  0,  2,  4],\n",
       "       [ 3,  4,  5,  6,  8, 10],\n",
       "       [ 6,  7,  8, 12, 14, 16]])"
      ]
     },
     "execution_count": 58,
     "metadata": {},
     "output_type": "execute_result"
    }
   ],
   "source": [
    "# 对于二维数组， column_stack 和 hstack 效果相同\n",
    "np.column_stack((a,b))"
   ]
  },
  {
   "cell_type": "code",
   "execution_count": 60,
   "metadata": {},
   "outputs": [
    {
     "data": {
      "text/plain": [
       "array([[0, 1],\n",
       "       [0, 2]])"
      ]
     },
     "execution_count": 60,
     "metadata": {},
     "output_type": "execute_result"
    }
   ],
   "source": [
    "# 行组合 - row_stack  直接将两个一维数组按层叠起来组合成一个二维数组\n",
    "np.row_stack((one,twice_oned))"
   ]
  },
  {
   "cell_type": "code",
   "execution_count": 61,
   "metadata": {},
   "outputs": [
    {
     "data": {
      "text/plain": [
       "array([[ 0,  1,  2],\n",
       "       [ 3,  4,  5],\n",
       "       [ 6,  7,  8],\n",
       "       [ 0,  2,  4],\n",
       "       [ 6,  8, 10],\n",
       "       [12, 14, 16]])"
      ]
     },
     "execution_count": 61,
     "metadata": {},
     "output_type": "execute_result"
    }
   ],
   "source": [
    "# 对于二维数组,row_stack和vstack效果一样\n",
    "np.row_stack((a,b))"
   ]
  },
  {
   "cell_type": "markdown",
   "metadata": {},
   "source": [
    "#### 分割数组"
   ]
  },
  {
   "cell_type": "code",
   "execution_count": 62,
   "metadata": {},
   "outputs": [
    {
     "data": {
      "text/plain": [
       "[array([[0],\n",
       "        [3],\n",
       "        [6]]), array([[1],\n",
       "        [4],\n",
       "        [7]]), array([[2],\n",
       "        [5],\n",
       "        [8]])]"
      ]
     },
     "execution_count": 62,
     "metadata": {},
     "output_type": "execute_result"
    }
   ],
   "source": [
    "# (1) 水平分割 沿着水平方向分割\n",
    "np.hsplit(a,3)"
   ]
  },
  {
   "cell_type": "code",
   "execution_count": 63,
   "metadata": {},
   "outputs": [
    {
     "data": {
      "text/plain": [
       "[array([[0],\n",
       "        [3],\n",
       "        [6]]), array([[1],\n",
       "        [4],\n",
       "        [7]]), array([[2],\n",
       "        [5],\n",
       "        [8]])]"
      ]
     },
     "execution_count": 63,
     "metadata": {},
     "output_type": "execute_result"
    }
   ],
   "source": [
    "# split函数在参数中指定 axis=1也可实现\n",
    "np.split(a, 3, axis=1)"
   ]
  },
  {
   "cell_type": "code",
   "execution_count": 64,
   "metadata": {},
   "outputs": [
    {
     "data": {
      "text/plain": [
       "[array([[0, 1, 2]]), array([[3, 4, 5]]), array([[6, 7, 8]])]"
      ]
     },
     "execution_count": 64,
     "metadata": {},
     "output_type": "execute_result"
    }
   ],
   "source": [
    "# (2) 垂直分割 - 沿着垂直方向分割\n",
    "np.vsplit(a, 3)"
   ]
  },
  {
   "cell_type": "code",
   "execution_count": 65,
   "metadata": {},
   "outputs": [
    {
     "data": {
      "text/plain": [
       "[array([[0, 1, 2]]), array([[3, 4, 5]]), array([[6, 7, 8]])]"
      ]
     },
     "execution_count": 65,
     "metadata": {},
     "output_type": "execute_result"
    }
   ],
   "source": [
    "# split函数中axis=0也可实现\n",
    "np.split(a, 3, axis=0)"
   ]
  },
  {
   "cell_type": "code",
   "execution_count": 68,
   "metadata": {},
   "outputs": [
    {
     "data": {
      "text/plain": [
       "array([[[ 0,  1,  2],\n",
       "        [ 3,  4,  5],\n",
       "        [ 6,  7,  8]],\n",
       "\n",
       "       [[ 9, 10, 11],\n",
       "        [12, 13, 14],\n",
       "        [15, 16, 17]],\n",
       "\n",
       "       [[18, 19, 20],\n",
       "        [21, 22, 23],\n",
       "        [24, 25, 26]]])"
      ]
     },
     "execution_count": 68,
     "metadata": {},
     "output_type": "execute_result"
    }
   ],
   "source": [
    "# (3) 深度分割 - 按深度方向分割数组\n",
    "c = np.arange(27).reshape(3, 3, 3)\n",
    "c"
   ]
  },
  {
   "cell_type": "code",
   "execution_count": 67,
   "metadata": {},
   "outputs": [
    {
     "data": {
      "text/plain": [
       "[array([[[ 0],\n",
       "         [ 3],\n",
       "         [ 6]],\n",
       " \n",
       "        [[ 9],\n",
       "         [12],\n",
       "         [15]],\n",
       " \n",
       "        [[18],\n",
       "         [21],\n",
       "         [24]]]), array([[[ 1],\n",
       "         [ 4],\n",
       "         [ 7]],\n",
       " \n",
       "        [[10],\n",
       "         [13],\n",
       "         [16]],\n",
       " \n",
       "        [[19],\n",
       "         [22],\n",
       "         [25]]]), array([[[ 2],\n",
       "         [ 5],\n",
       "         [ 8]],\n",
       " \n",
       "        [[11],\n",
       "         [14],\n",
       "         [17]],\n",
       " \n",
       "        [[20],\n",
       "         [23],\n",
       "         [26]]])]"
      ]
     },
     "execution_count": 67,
     "metadata": {},
     "output_type": "execute_result"
    }
   ],
   "source": [
    "np.dsplit(c, 3)"
   ]
  },
  {
   "cell_type": "markdown",
   "metadata": {},
   "source": [
    "#### 数组的属性"
   ]
  },
  {
   "cell_type": "code",
   "execution_count": 69,
   "metadata": {},
   "outputs": [
    {
     "data": {
      "text/plain": [
       "array([[ 0,  2,  4],\n",
       "       [ 6,  8, 10],\n",
       "       [12, 14, 16]])"
      ]
     },
     "execution_count": 69,
     "metadata": {},
     "output_type": "execute_result"
    }
   ],
   "source": [
    "# ndim 属性 - 数组的维数\n",
    "b"
   ]
  },
  {
   "cell_type": "code",
   "execution_count": 70,
   "metadata": {},
   "outputs": [
    {
     "data": {
      "text/plain": [
       "2"
      ]
     },
     "execution_count": 70,
     "metadata": {},
     "output_type": "execute_result"
    }
   ],
   "source": [
    "b.ndim"
   ]
  },
  {
   "cell_type": "code",
   "execution_count": 71,
   "metadata": {},
   "outputs": [
    {
     "data": {
      "text/plain": [
       "9"
      ]
     },
     "execution_count": 71,
     "metadata": {},
     "output_type": "execute_result"
    }
   ],
   "source": [
    "# size 数组元素的总个数\n",
    "b.size"
   ]
  },
  {
   "cell_type": "code",
   "execution_count": 72,
   "metadata": {},
   "outputs": [
    {
     "data": {
      "text/plain": [
       "4"
      ]
     },
     "execution_count": 72,
     "metadata": {},
     "output_type": "execute_result"
    }
   ],
   "source": [
    "# itemsize 元素在内存中占的字节数\n",
    "b.itemsize"
   ]
  },
  {
   "cell_type": "code",
   "execution_count": 73,
   "metadata": {},
   "outputs": [
    {
     "data": {
      "text/plain": [
       "36"
      ]
     },
     "execution_count": 73,
     "metadata": {},
     "output_type": "execute_result"
    }
   ],
   "source": [
    "# nbytes - 整个数组所占的存储空间 size * itemsize\n",
    "b.nbytes"
   ]
  },
  {
   "cell_type": "markdown",
   "metadata": {},
   "source": [
    "##### T 属性和transpose函数一样\n",
    "#####  对于一维数组 T 属性就是原数组 "
   ]
  },
  {
   "cell_type": "code",
   "execution_count": 76,
   "metadata": {},
   "outputs": [
    {
     "data": {
      "text/plain": [
       "array([[0, 1],\n",
       "       [2, 3]])"
      ]
     },
     "execution_count": 76,
     "metadata": {},
     "output_type": "execute_result"
    }
   ],
   "source": [
    "# 复数的虚部用j表示\n",
    "# real属性 -- 给出复数数组的实部 imag -- 复数的虚部\n",
    "\n",
    "# flat属性 -- 返回一个numpy.flatiter对象，可以像遍历一维数组一样去遍历多维数组\n",
    "x = np.arange(4).reshape(2, 2)\n",
    "x"
   ]
  },
  {
   "cell_type": "code",
   "execution_count": 79,
   "metadata": {},
   "outputs": [
    {
     "data": {
      "text/plain": [
       "<numpy.flatiter at 0x2151ba40650>"
      ]
     },
     "execution_count": 79,
     "metadata": {},
     "output_type": "execute_result"
    }
   ],
   "source": [
    "f = x.flat\n",
    "f"
   ]
  },
  {
   "cell_type": "code",
   "execution_count": 82,
   "metadata": {},
   "outputs": [
    {
     "data": {
      "text/plain": [
       "2"
      ]
     },
     "execution_count": 82,
     "metadata": {},
     "output_type": "execute_result"
    }
   ],
   "source": [
    "# 直接获取一个元素\n",
    "x.flat[2]"
   ]
  },
  {
   "cell_type": "code",
   "execution_count": 83,
   "metadata": {},
   "outputs": [
    {
     "data": {
      "text/plain": [
       "array([1, 3])"
      ]
     },
     "execution_count": 83,
     "metadata": {},
     "output_type": "execute_result"
    }
   ],
   "source": [
    "# 后去多个元素\n",
    "x.flat[[1, 3]]"
   ]
  },
  {
   "cell_type": "markdown",
   "metadata": {},
   "source": [
    "#### 数组的转换"
   ]
  },
  {
   "cell_type": "code",
   "execution_count": 84,
   "metadata": {},
   "outputs": [
    {
     "data": {
      "text/plain": [
       "[[0, 2, 4], [6, 8, 10], [12, 14, 16]]"
      ]
     },
     "execution_count": 84,
     "metadata": {},
     "output_type": "execute_result"
    }
   ],
   "source": [
    "# 转换为列表\n",
    "b.tolist()"
   ]
  },
  {
   "cell_type": "code",
   "execution_count": 85,
   "metadata": {},
   "outputs": [
    {
     "data": {
      "text/plain": [
       "array([[  0.,   2.,   4.],\n",
       "       [  6.,   8.,  10.],\n",
       "       [ 12.,  14.,  16.]], dtype=float32)"
      ]
     },
     "execution_count": 85,
     "metadata": {},
     "output_type": "execute_result"
    }
   ],
   "source": [
    "# astype可以再转换数组时指定数组类型\n",
    "b.astype(np.float32)"
   ]
  },
  {
   "cell_type": "markdown",
   "metadata": {},
   "source": [
    "### 常用函数\n",
    "#### 读写文件"
   ]
  },
  {
   "cell_type": "code",
   "execution_count": 86,
   "metadata": {},
   "outputs": [
    {
     "data": {
      "text/plain": [
       "array([[ 1.,  0.],\n",
       "       [ 0.,  1.]])"
      ]
     },
     "execution_count": 86,
     "metadata": {},
     "output_type": "execute_result"
    }
   ],
   "source": [
    "# 写文件\n",
    "# (1) - 单位矩阵 - 主对角线上的元素均为1，其余为0的正方形矩阵。\n",
    "i2 = np.eye(2)\n",
    "i2"
   ]
  },
  {
   "cell_type": "code",
   "execution_count": 87,
   "metadata": {
    "collapsed": true
   },
   "outputs": [],
   "source": [
    "# savetxt 指名文件名以及要保存的数组，将数据存储到文件中\n",
    "np.savetxt(\"eye.txt\", i2)"
   ]
  },
  {
   "cell_type": "markdown",
   "metadata": {},
   "source": [
    "#### 读入 CSV 文件"
   ]
  },
  {
   "cell_type": "code",
   "execution_count": 91,
   "metadata": {},
   "outputs": [
    {
     "name": "stdout",
     "output_type": "stream",
     "text": [
      "[ 336.1   339.32  345.03  344.32  343.44  346.5   351.88  355.2   358.16\n",
      "  354.54  356.85  359.18  359.9   363.13  358.3   350.56  338.61  342.62\n",
      "  342.88  348.16  353.21  349.31  352.12  359.56  360.    355.36  355.76\n",
      "  352.47  346.67  351.99]\n"
     ]
    },
    {
     "data": {
      "text/plain": [
       "array([ 21144800.,  13473000.,  15236800.,   9242600.,  14064100.,\n",
       "        11494200.,  17322100.,  13608500.,  17240800.,  33162400.,\n",
       "        13127500.,  11086200.,  10149000.,  17184100.,  18949000.,\n",
       "        29144500.,  31162200.,  23994700.,  17853500.,  13572000.,\n",
       "        14395400.,  16290300.,  21521000.,  17885200.,  16188000.,\n",
       "        19504300.,  12718000.,  16192700.,  18138800.,  16824200.])"
      ]
     },
     "execution_count": 91,
     "metadata": {},
     "output_type": "execute_result"
    }
   ],
   "source": [
    "\n",
    "# loadtxt - 文件名 分隔符 要获取的字段数据组成的元组  分拆存储\n",
    "c,v = np.loadtxt(\"data.csv\", delimiter=\",\", usecols=(6,7), unpack=True)\n",
    "print(c)\n",
    "v"
   ]
  },
  {
   "cell_type": "markdown",
   "metadata": {},
   "source": [
    "#### VWAP(Volume-Weighted Average Price) - 成交量加权平均价格，代表着金融资产的\"平均\"价格。某个成交价格越高， 该价格所占的权重就越大。是以成交量为权重计算出来的加权平均值，常用于算法交易。\n"
   ]
  },
  {
   "cell_type": "code",
   "execution_count": 93,
   "metadata": {},
   "outputs": [
    {
     "data": {
      "text/plain": [
       "350.58954935320088"
      ]
     },
     "execution_count": 93,
     "metadata": {},
     "output_type": "execute_result"
    }
   ],
   "source": [
    "# (1) 读取文件\n",
    "#c,v = np.loadtxt(\"data.csv\", delimiter=\",\", usecols=(6,7), unpack=True)\n",
    "# (2) 计算VWAP\n",
    "vwap = np.average(c, weights=v)\n",
    "vwap"
   ]
  },
  {
   "cell_type": "markdown",
   "metadata": {},
   "source": [
    "#### TWAP(Time-Weighted Average Price) - 时间加权平均价格，近期的价格有较高的权重"
   ]
  },
  {
   "cell_type": "code",
   "execution_count": 95,
   "metadata": {},
   "outputs": [
    {
     "data": {
      "text/plain": [
       "352.42832183908041"
      ]
     },
     "execution_count": 95,
     "metadata": {},
     "output_type": "execute_result"
    }
   ],
   "source": [
    "t = np.arange(len(c))\n",
    "np.average(c, weights=t)"
   ]
  },
  {
   "cell_type": "markdown",
   "metadata": {},
   "source": [
    "##### 取值范围"
   ]
  },
  {
   "cell_type": "code",
   "execution_count": 96,
   "metadata": {},
   "outputs": [
    {
     "name": "stdout",
     "output_type": "stream",
     "text": [
      "Highest price =  364.9\n",
      "Lowest price =  333.53\n"
     ]
    }
   ],
   "source": [
    "h, l = np.loadtxt('data.csv', delimiter=',', usecols=(4, 5), unpack=True) # 每日最高价和最低价\n",
    "\n",
    "# 最大值\n",
    "print(\"Highest price = \", np.max(h))\n",
    "print(\"Lowest price = \", np.min(l))"
   ]
  },
  {
   "cell_type": "code",
   "execution_count": 97,
   "metadata": {},
   "outputs": [
    {
     "name": "stdout",
     "output_type": "stream",
     "text": [
      "Spread high price  24.86\n",
      "Spread low price  26.97\n"
     ]
    }
   ],
   "source": [
    "# 数组的取值范围\n",
    "# ptp  - 返回 max(array) - min(array)\n",
    "print(\"Spread high price \", np.ptp(h))\n",
    "print(\"Spread low price \", np.ptp(l))"
   ]
  },
  {
   "cell_type": "code",
   "execution_count": 98,
   "metadata": {},
   "outputs": [
    {
     "name": "stdout",
     "output_type": "stream",
     "text": [
      "median =  352.055\n"
     ]
    }
   ],
   "source": [
    "# 中位数去除异常值\n",
    "c = np.loadtxt('data.csv', delimiter=',', usecols=(6,), unpack=True)\n",
    "\n",
    "# 找到中位数 长度奇数个数的数组，中位数为中间数 长度为偶数个数数组，中位数的值等于中间那两个数的平均值\n",
    "print(\"median = \", np.median(c))"
   ]
  },
  {
   "cell_type": "code",
   "execution_count": 99,
   "metadata": {},
   "outputs": [
    {
     "name": "stdout",
     "output_type": "stream",
     "text": [
      "Variance =  50.1265178889\n"
     ]
    }
   ],
   "source": [
    "# 方差 - 能够体现变量变化的程度\n",
    "print(\"Variance = \", np.var(c))"
   ]
  },
  {
   "cell_type": "markdown",
   "metadata": {},
   "source": [
    "#### 股票收益率\n",
    "收盘价的分析常常是基于股票收益率和对数收益率的。\n",
    "\n",
    "简单收益率是指相邻两个价格之间的变化率，对数收益率指的是所有价格取对数以后两两之间的差值。对数收益率也可用来衡量价格的变化率。\n",
    "\n",
    "投资者最感兴趣的是收益率的方差和标准差，代表着投资风险的大小。"
   ]
  },
  {
   "cell_type": "code",
   "execution_count": 101,
   "metadata": {},
   "outputs": [
    {
     "name": "stdout",
     "output_type": "stream",
     "text": [
      "Standard deviation =  0.0129221344368\n"
     ]
    }
   ],
   "source": [
    "# 计算简单收益率\n",
    "# numpy中的diff函数可以返回一个由相邻数组元素的差值构成的数组。 类似于微分。为了计算差值，还需用差值除以前一天的价格。\n",
    "# diff返回的数组比收盘价数组少一个元素\n",
    "returns = np.diff(c)/c[:-1]\n",
    "print(\"Standard deviation = \", np.std(returns)) # std计算标准差"
   ]
  },
  {
   "cell_type": "code",
   "execution_count": 102,
   "metadata": {},
   "outputs": [
    {
     "name": "stdout",
     "output_type": "stream",
     "text": [
      "Log deviation =  [ 0.00953488  0.01668775 -0.00205991 -0.00255903  0.00887039  0.01540739\n",
      "  0.0093908   0.0082988  -0.01015864  0.00649435  0.00650813  0.00200256\n",
      "  0.00893468 -0.01339027 -0.02183875 -0.03468287  0.01177296  0.00075857\n",
      "  0.01528161  0.01440064 -0.011103    0.00801225  0.02090904  0.00122297\n",
      " -0.01297267  0.00112499 -0.00929083 -0.01659219  0.01522945]\n"
     ]
    }
   ],
   "source": [
    "# 对数收益率 先用log函数得到每一个收盘价的对数，在对结果使用diff函数即可\n",
    "logreturns = np.diff(np.log(c))\n",
    "print(\"Log deviation = \", logreturns)"
   ]
  },
  {
   "cell_type": "code",
   "execution_count": 103,
   "metadata": {},
   "outputs": [
    {
     "name": "stdout",
     "output_type": "stream",
     "text": [
      "Indices with positive returns (array([ 0,  1,  4,  5,  6,  7,  9, 10, 11, 12, 16, 17, 18, 19, 21, 22, 23,\n",
      "       25, 28], dtype=int64),)\n"
     ]
    }
   ],
   "source": [
    "# where指定返回条件, 返回索引组成的数组\n",
    "print(\"Indices with positive returns\", np.where(returns>0))"
   ]
  },
  {
   "cell_type": "code",
   "execution_count": 104,
   "metadata": {},
   "outputs": [
    {
     "name": "stdout",
     "output_type": "stream",
     "text": [
      "129.274789911\n"
     ]
    }
   ],
   "source": [
    "# 波动率(volatility)是对价格变动的一种度量。\n",
    "# 历史波动率可以根据历史价格数据计算得出。 计算历史波动率（年波动率或月波动率）需要用对数收益率。\n",
    "# 年波动率等于对数收益率的标准差除以其均值，再除以交易日倒数的平方根，通常交易日取252天。\n",
    "annual_volatility = np.std(logreturns) / np.mean(logreturns)\n",
    "annual_volatility = annual_volatility / np.sqrt(1./252.)\n",
    "print(annual_volatility)"
   ]
  },
  {
   "cell_type": "code",
   "execution_count": 111,
   "metadata": {},
   "outputs": [
    {
     "name": "stdout",
     "output_type": "stream",
     "text": [
      "[ 4.  0.  1.  2.  3.  4.  0.  1.  2.  3.  4.  0.  1.  2.  3.  4.  1.  2.\n",
      "  3.  4.  0.  1.  2.  3.  4.  0.  1.  2.  3.  4.]\n"
     ]
    }
   ],
   "source": [
    "# 分析日期数据\n",
    "# 转换日期时需要参数converters - 数据列和转换函数之间进行映射的字典\n",
    "\n",
    "# 定义转换函数\n",
    "import datetime\n",
    "def datestr2num(s):\n",
    "    return datetime.datetime.strptime(str(s, encoding='utf-8'), \"%d-%m-%Y\").date().weekday()\n",
    "\n",
    "dates, close = np.loadtxt(\"data.csv\", delimiter=',', usecols=(1, 6), converters={1:datestr2num}, unpack=True)\n",
    "print(dates)\n"
   ]
  },
  {
   "cell_type": "code",
   "execution_count": 112,
   "metadata": {
    "collapsed": true
   },
   "outputs": [],
   "source": [
    "# 创建数组 包含5个元素，代表一周的5个工作日\n",
    "averages = np.zeros(5)"
   ]
  },
  {
   "cell_type": "code",
   "execution_count": 114,
   "metadata": {},
   "outputs": [
    {
     "name": "stdout",
     "output_type": "stream",
     "text": [
      "Day  0  prices  [[ 339.32  351.88  359.18  353.21  355.36]]  Average  351.79\n",
      "Day  1  prices  [[ 345.03  355.2   359.9   338.61  349.31  355.76]]  Average  350.635\n",
      "Day  2  prices  [[ 344.32  358.16  363.13  342.62  352.12  352.47]]  Average  352.136666667\n",
      "Day  3  prices  [[ 343.44  354.54  358.3   342.88  359.56  346.67]]  Average  350.898333333\n",
      "Day  4  prices  [[ 336.1   346.5   356.85  350.56  348.16  360.    351.99]]  Average  350.022857143\n"
     ]
    }
   ],
   "source": [
    "# where函数会根据指定的条件的数组元素的索引值。 \n",
    "# take函数可以按照这些索引值从数组中取出相应的元素。\n",
    "for i in range(5):\n",
    "    indices = np.where(dates==i)\n",
    "    prices = np.take(close, indices)\n",
    "    avg = np.mean(prices)\n",
    "    print(\"Day \", i ,\" prices \", prices, \" Average \", avg)\n",
    "    averages[i] = avg"
   ]
  },
  {
   "cell_type": "code",
   "execution_count": 115,
   "metadata": {},
   "outputs": [
    {
     "name": "stdout",
     "output_type": "stream",
     "text": [
      "Highest average 352.136666667\n",
      "Top day of the week  2\n",
      "Lowest average  350.022857143\n",
      "Bottom day of the week  4\n"
     ]
    }
   ],
   "source": [
    "top = np.max(averages)\n",
    "print(\"Highest average\", top)\n",
    "print(\"Top day of the week \", np.argmax(averages)) # argmax 返回数组中最大值的索引\n",
    "bottom = np.min(averages)\n",
    "print(\"Lowest average \", bottom)\n",
    "print(\"Bottom day of the week \", np.argmin(averages))"
   ]
  },
  {
   "cell_type": "markdown",
   "metadata": {},
   "source": [
    "##### 汇总数据"
   ]
  },
  {
   "cell_type": "code",
   "execution_count": 127,
   "metadata": {},
   "outputs": [
    {
     "name": "stdout",
     "output_type": "stream",
     "text": [
      "The first Monday index is  1\n",
      "The last Friday index is  15\n"
     ]
    }
   ],
   "source": [
    "dates, open_, high, low, close = np.loadtxt(\"data.csv\", delimiter=',', usecols=(1,3,4,5,6), converters={1: datestr2num}, unpack=True)\n",
    "\n",
    "# 取前三周数据\n",
    "close = close[:16]\n",
    "dates = dates[:16]\n",
    "\n",
    "# 找到第一个星期一\n",
    "first_monday = np.ravel(np.where(dates==0))[0]\n",
    "print(\"The first Monday index is \", first_monday)\n",
    "\n",
    "# 找到最后一个星期五\n",
    "last_friday = np.ravel(np.where(dates == 4))[-1]\n",
    "print(\"The last Friday index is \", last_friday)"
   ]
  },
  {
   "cell_type": "code",
   "execution_count": 128,
   "metadata": {},
   "outputs": [
    {
     "name": "stdout",
     "output_type": "stream",
     "text": [
      "Weeks indices initial  [ 1  2  3  4  5  6  7  8  9 10 11 12 13 14 15]\n"
     ]
    }
   ],
   "source": [
    "# 存储三周内每一天的索引值\n",
    "weeks_indices = np.arange(first_monday, last_friday + 1)\n",
    "print(\"Weeks indices initial \", weeks_indices)"
   ]
  },
  {
   "cell_type": "code",
   "execution_count": 129,
   "metadata": {},
   "outputs": [
    {
     "name": "stdout",
     "output_type": "stream",
     "text": [
      "Weeks indices after split [array([1, 2, 3], dtype=int64), array([4, 5, 6], dtype=int64), array([7, 8, 9], dtype=int64), array([10, 11, 12], dtype=int64), array([13, 14, 15], dtype=int64)]\n"
     ]
    }
   ],
   "source": [
    "# 按照每个子数组5个元素分割数组\n",
    "weeks_indices = np.split(weeks_indices, 5)\n",
    "print(\"Weeks indices after split\", weeks_indices)"
   ]
  },
  {
   "cell_type": "code",
   "execution_count": 132,
   "metadata": {},
   "outputs": [
    {
     "name": "stdout",
     "output_type": "stream",
     "text": [
      "Week summary [['APPL' '335.8' '345.65' '334.3' '344.32']\n",
      " ['APPL' '343.8' '353.25' '338.55' '351.88']\n",
      " ['APPL' '353.68' '360.0' '348.0' '354.54']\n",
      " ['APPL' '354.75' '359.97' '353.54' '359.9']\n",
      " ['APPL' '360.8' '364.9' '349.52' '350.56']]\n"
     ]
    }
   ],
   "source": [
    "# apply_along_axis函数会调用另外一个给出的函数，作用于每一个数组元素上。\n",
    "def summarize(a, o, h, l, c):\n",
    "    monday_open = o[a[0]]\n",
    "    week_high = np.max(np.take(h, a))\n",
    "    week_low = np.min(np.take(l, a))\n",
    "    friday_close = c[a[-1]]\n",
    "    return(\"APPL\", monday_open, week_high, week_low, friday_close)\n",
    "\n",
    "weeksummary = np.apply_along_axis(summarize, 1, weeks_indices, open_, high, low, close)\n",
    "print(\"Week summary\", weeksummary)"
   ]
  },
  {
   "cell_type": "markdown",
   "metadata": {},
   "source": [
    "##### 真实波动幅度均值(ATR)\n",
    "ATR(Average True Range, 真实波动幅度均值)是一个用来衡量股价波动性的技术指标。"
   ]
  },
  {
   "cell_type": "code",
   "execution_count": 133,
   "metadata": {
    "collapsed": true
   },
   "outputs": [],
   "source": [
    "# maxinum 返回一组数组之间按照元素挑选最大值组成的数组"
   ]
  },
  {
   "cell_type": "markdown",
   "metadata": {},
   "source": [
    "#### 简单移动平均线\n",
    "简单移动平均线(simple moving average)通常用于分析时间序列上的数据。\n",
    "\n",
    "为了计算它，需要定义一个N个周期的移动窗口，按照时间序列滑动窗口，计算窗口内数据的均值。\n",
    "\n",
    "移动平均线只需要少量的循环和均值函数即可计算出。 -- numpy更优的选择 convolve函数。\n",
    "\n",
    "简单移动平均线只不过是计算与等权重的指示函数的卷积。也可以是不等权重的。\n",
    "\n",
    "简单移动平均线可以用信号处理技术求解 - 与 1/N 的权重进行卷积运算，N为移动窗口大小。"
   ]
  },
  {
   "cell_type": "code",
   "execution_count": 134,
   "metadata": {},
   "outputs": [
    {
     "name": "stdout",
     "output_type": "stream",
     "text": [
      "Weights  [ 0.125  0.125  0.125  0.125  0.125  0.125  0.125  0.125]\n"
     ]
    }
   ],
   "source": [
    "# (1) 创建一个长度为N 的初始化所有元素为1的数组\n",
    "N = int(8)\n",
    "weights = np.ones(N) / N\n",
    "print(\"Weights \", weights)"
   ]
  },
  {
   "cell_type": "code",
   "execution_count": 135,
   "metadata": {
    "collapsed": true
   },
   "outputs": [],
   "source": [
    "# 使用计算出的权重，调用 convolve函数\n",
    "c = np.loadtxt('data.csv', delimiter=',', usecols=(6,), unpack=True)\n",
    "sma = np.convolve(weights, c)[N-1:-N+1]"
   ]
  },
  {
   "cell_type": "code",
   "execution_count": 138,
   "metadata": {},
   "outputs": [
    {
     "data": {
      "image/png": "[encoded data removed]",
      "text/plain": [
       "<matplotlib.figure.Figure at 0x2151fc81668>"
      ]
     },
     "metadata": {},
     "output_type": "display_data"
    }
   ],
   "source": [
    "%matplotlib inline\n",
    "import matplotlib.pyplot as plt\n",
    "t = np.arange(N-1, len(c))\n",
    "plt.plot(t, c[N-1:], lw=1.0)\n",
    "plt.plot(t, sma, lw=2.0)\n",
    "plt.show()"
   ]
  },
  {
   "cell_type": "markdown",
   "metadata": {},
   "source": [
    "#### 指数移动平均线\n",
    "指数移动平均线使用的权重是指数衰减的。对历史上的数据点赋予的权重以指数速度减小。"
   ]
  },
  {
   "cell_type": "code",
   "execution_count": 139,
   "metadata": {},
   "outputs": [
    {
     "name": "stdout",
     "output_type": "stream",
     "text": [
      "Exp  [  1.           2.71828183   7.3890561   20.08553692  54.59815003]\n"
     ]
    }
   ],
   "source": [
    "# exp 计算出每个数组元素的指数\n",
    "x = np.arange(5)\n",
    "print(\"Exp \", np.exp(x))"
   ]
  },
  {
   "cell_type": "code",
   "execution_count": 140,
   "metadata": {},
   "outputs": [
    {
     "name": "stdout",
     "output_type": "stream",
     "text": [
      "Linspace  [-1.   -0.75 -0.5  -0.25  0.  ]\n"
     ]
    }
   ],
   "source": [
    "# linspace 需要一个起始值和终止值，以及可选的元素个数参数，返回一个元素值在指定范围内均匀分布的数组。\n",
    "print(\"Linspace \", np.linspace(-1, 0, 5))"
   ]
  },
  {
   "cell_type": "code",
   "execution_count": 141,
   "metadata": {},
   "outputs": [
    {
     "name": "stdout",
     "output_type": "stream",
     "text": [
      "Weights  [ 0.04813882  0.05272016  0.05773751  0.06323236  0.06925014  0.07584064\n",
      "  0.08305835  0.09096297  0.09961986  0.10910063  0.11948368  0.13085487]\n"
     ]
    }
   ],
   "source": [
    "N = int(12)\n",
    "weights = np.exp(np.linspace(-1., 0., N))\n",
    "\n",
    "# 对权重做归一化处理\n",
    "weights /= weights.sum()\n",
    "print(\"Weights \", weights)"
   ]
  },
  {
   "cell_type": "code",
   "execution_count": 142,
   "metadata": {},
   "outputs": [
    {
     "data": {
      "image/png": "[encoded data removed]",
      "text/plain": [
       "<matplotlib.figure.Figure at 0x2151fc819e8>"
      ]
     },
     "metadata": {},
     "output_type": "display_data"
    }
   ],
   "source": [
    "c = np.loadtxt(\"data.csv\", delimiter=',', usecols=(6,), unpack=True)\n",
    "ema = np.convolve(weights, c)[N-1:-N+1]\n",
    "t = np.arange(N-1, len(c))\n",
    "plt.plot(t, c[N-1:], lw=1.0)\n",
    "plt.plot(t, ema, lw=2.0)\n",
    "plt.show()"
   ]
  },
  {
   "cell_type": "markdown",
   "metadata": {},
   "source": [
    "##### 布林带\n",
    "布林带(Bollinger and)用以刻画价格波动的区间。\n",
    "\n",
    "布林带的基本形态是由三条轨道线组成的带状通道：\n",
    "- 中轨 简单移动平均线\n",
    "- 上轨 简单移动平均线+数据标准差的2倍\n",
    "- 下轨 简单移动平均线-数据标准差的2倍"
   ]
  },
  {
   "cell_type": "code",
   "execution_count": 146,
   "metadata": {},
   "outputs": [
    {
     "name": "stdout",
     "output_type": "stream",
     "text": [
      "23 23\n",
      "[ 325.43001013  331.29513631  335.01969422  338.22653721  340.18888822\n",
      "  339.26961781  335.01592647  331.70251977  335.54067913  339.88062827\n",
      "  342.32882144  340.7375972   336.88547089  334.91170988  333.29127206\n",
      "  334.64992614  338.14246839  343.69702832  345.85665916  345.68844007\n",
      "  345.96773994]\n",
      "[ 345.03  344.32  343.44  346.5   351.88  355.2   358.16  354.54  356.85\n",
      "  359.18  359.9   363.13  358.3   350.56  338.61  342.62  342.88  348.16\n",
      "  353.21  349.31  352.12]\n",
      "[ 374.33748987  371.42736369  371.41780578  372.32596279  374.52111178\n",
      "  377.04538219  380.13907353  378.56498023  371.74682087  363.91437173\n",
      "  358.71117856  358.6299028   359.02702911  359.45579012  363.32622794\n",
      "  367.31507386  367.00753161  364.67297168  363.59084084  362.12405993\n",
      "  362.51476006]\n",
      "Ratio between bands 0.9130434782608695\n"
     ]
    },
    {
     "data": {
      "image/png": "[encoded data removed]",
      "text/plain": [
       "<matplotlib.figure.Figure at 0x215202b1b00>"
      ]
     },
     "metadata": {},
     "output_type": "display_data"
    }
   ],
   "source": [
    "N = int(8)\n",
    "weights = np.ones(N) / N\n",
    "\n",
    "c = np.loadtxt('data.csv', delimiter=',', usecols=(6,), unpack=True)\n",
    "sma = np.convolve(weights, c)[N-1:-N+1] # 简单移动平均线\n",
    "deviation =  []\n",
    "C = len(c)\n",
    "\n",
    "for i in range(N - 1, C):\n",
    "    if i+N < C:\n",
    "        dev = c[i:i+N]\n",
    "    else:\n",
    "        dev = c[-N:]\n",
    "        \n",
    "    averages = np.zeros(n)\n",
    "    averages.fill(sma[i-N-1])\n",
    "    dev = dev - averages\n",
    "    dev = dev ** 2\n",
    "    dev = np.sqrt(np.mean(dev))\n",
    "    deviation.append(dev)\n",
    "    \n",
    "deviation = 2 * np.array(deviation)\n",
    "print(len(deviation), len(sma))\n",
    "upperBB = sma + deviation\n",
    "lowerBB = sma - deviation\n",
    "\n",
    "c_slice = c[N-1:]\n",
    "between_bands = np.where((c_slice < upperBB) & (c_slice>lowerBB))\n",
    "\n",
    "print(lowerBB[between_bands])\n",
    "print(c[between_bands])\n",
    "print(upperBB[between_bands])\n",
    "between_bands = len(np.ravel(between_bands))\n",
    "print(\"Ratio between bands\", float(between_bands)/len(c_slice))\n",
    "\n",
    "t = np.arange(N-1, C)\n",
    "plt.plot(t, c_slice, lw=1.0)\n",
    "plt.plot(t, sma, lw=2.0)\n",
    "plt.plot(t, upperBB, lw=3.0)\n",
    "plt.plot(t, lowerBB, lw=4.0)\n",
    "plt.show()"
   ]
  },
  {
   "cell_type": "code",
   "execution_count": null,
   "metadata": {
    "collapsed": true
   },
   "outputs": [],
   "source": []
  }
 ],
 "metadata": {
  "kernelspec": {
   "display_name": "Python 3",
   "language": "python",
   "name": "python3"
  },
  "language_info": {
   "codemirror_mode": {
    "name": "ipython",
    "version": 3
   },
   "file_extension": ".py",
   "mimetype": "text/x-python",
   "name": "python",
   "nbconvert_exporter": "python",
   "pygments_lexer": "ipython3",
   "version": "3.6.2"
  }
 },
 "nbformat": 4,
 "nbformat_minor": 2
}
